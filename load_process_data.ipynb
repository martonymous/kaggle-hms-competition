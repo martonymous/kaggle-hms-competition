{
 "cells": [
  {
   "cell_type": "code",
   "execution_count": 1,
   "metadata": {},
   "outputs": [],
   "source": [
    "import pandas as pd\n",
    "import numpy as np\n",
    "import scipy as sp\n",
    "from sklearn.preprocessing import normalize, minmax_scale\n",
    "\n",
    "import os\n",
    "import gc\n",
    "import random\n",
    "from pathlib import Path"
   ]
  },
  {
   "cell_type": "markdown",
   "metadata": {},
   "source": [
    "## Load all EEGs"
   ]
  },
  {
   "cell_type": "code",
   "execution_count": 2,
   "metadata": {},
   "outputs": [],
   "source": [
    "PATH = Path('train_eegs/')\n",
    "files = os.listdir(PATH)\n",
    "metadata = pd.read_csv('train.csv')\n",
    "test_metadata = pd.read_csv('test.csv')"
   ]
  },
  {
   "cell_type": "code",
   "execution_count": 3,
   "metadata": {},
   "outputs": [],
   "source": [
    "eeg_ids = metadata.eeg_id.unique()\n",
    "label_ids = metadata.label_id.unique()\n",
    "eeg_data = np.zeros((len(label_ids), 20*50, 20))\n",
    "eeg_labels = np.zeros((len(label_ids), 6))"
   ]
  },
  {
   "cell_type": "code",
   "execution_count": 4,
   "metadata": {},
   "outputs": [
    {
     "name": "stderr",
     "output_type": "stream",
     "text": [
      "C:\\Users\\marton\\AppData\\Local\\Temp\\ipykernel_17972\\174266237.py:14: FutureWarning: Calling int on a single element Series is deprecated and will raise a TypeError in the future. Use int(ser.iloc[0]) instead\n",
      "  eeg_offset = int(eeg_selection[eeg_selection.eeg_sub_id == subid].eeg_label_offset_seconds)\n"
     ]
    },
    {
     "ename": "ValueError",
     "evalue": "could not broadcast input array from shape (2000,20) into shape (1000,20)",
     "output_type": "error",
     "traceback": [
      "\u001b[1;31m---------------------------------------------------------------------------\u001b[0m",
      "\u001b[1;31mValueError\u001b[0m                                Traceback (most recent call last)",
      "Cell \u001b[1;32mIn[4], line 26\u001b[0m\n\u001b[0;32m     23\u001b[0m \u001b[38;5;28;01mif\u001b[39;00m np\u001b[38;5;241m.\u001b[39msum(np\u001b[38;5;241m.\u001b[39misnan(eeg_temp)) \u001b[38;5;241m==\u001b[39m \u001b[38;5;241m0\u001b[39m:\n\u001b[0;32m     24\u001b[0m     \u001b[38;5;66;03m# add to eeg_data\u001b[39;00m\n\u001b[0;32m     25\u001b[0m     eeg_temp \u001b[38;5;241m=\u001b[39m sp\u001b[38;5;241m.\u001b[39msignal\u001b[38;5;241m.\u001b[39mdecimate(eeg_temp, DOWN_RATE, axis\u001b[38;5;241m=\u001b[39m\u001b[38;5;241m0\u001b[39m, zero_phase\u001b[38;5;241m=\u001b[39m\u001b[38;5;28;01mTrue\u001b[39;00m)\n\u001b[1;32m---> 26\u001b[0m     \u001b[43meeg_data\u001b[49m\u001b[43m[\u001b[49m\u001b[43mcounter\u001b[49m\u001b[43m,\u001b[49m\u001b[43m:\u001b[49m\u001b[43m,\u001b[49m\u001b[43m:\u001b[49m\u001b[43m]\u001b[49m \u001b[38;5;241m=\u001b[39m eeg_temp\n\u001b[0;32m     27\u001b[0m     eeg_label \u001b[38;5;241m=\u001b[39m eeg_selection[eeg_selection\u001b[38;5;241m.\u001b[39meeg_sub_id \u001b[38;5;241m==\u001b[39m subid][[\u001b[38;5;124m'\u001b[39m\u001b[38;5;124mseizure_vote\u001b[39m\u001b[38;5;124m'\u001b[39m, \u001b[38;5;124m'\u001b[39m\u001b[38;5;124mlpd_vote\u001b[39m\u001b[38;5;124m'\u001b[39m, \u001b[38;5;124m'\u001b[39m\u001b[38;5;124mgpd_vote\u001b[39m\u001b[38;5;124m'\u001b[39m, \u001b[38;5;124m'\u001b[39m\u001b[38;5;124mlrda_vote\u001b[39m\u001b[38;5;124m'\u001b[39m, \u001b[38;5;124m'\u001b[39m\u001b[38;5;124mgrda_vote\u001b[39m\u001b[38;5;124m'\u001b[39m, \u001b[38;5;124m'\u001b[39m\u001b[38;5;124mother_vote\u001b[39m\u001b[38;5;124m'\u001b[39m]]\u001b[38;5;241m.\u001b[39mto_numpy()\n\u001b[0;32m     28\u001b[0m     eeg_labels[counter] \u001b[38;5;241m=\u001b[39m normalize(eeg_label, norm\u001b[38;5;241m=\u001b[39m\u001b[38;5;124m'\u001b[39m\u001b[38;5;124ml1\u001b[39m\u001b[38;5;124m'\u001b[39m)\n",
      "\u001b[1;31mValueError\u001b[0m: could not broadcast input array from shape (2000,20) into shape (1000,20)"
     ]
    }
   ],
   "source": [
    "num_nans = []\n",
    "counter = 0  # for determining how many eegs we keep\n",
    "DOWN_RATE = 5\n",
    "\n",
    "\n",
    "for i, eeg_id in enumerate(eeg_ids):\n",
    "    eeg = pd.read_parquet(PATH / (str(eeg_id)+'.parquet')).to_numpy()\n",
    "\n",
    "    # get all rows with this eeg_id and randomly select one subid\n",
    "    eeg_selection = metadata[metadata.eeg_id == eeg_id]\n",
    "    subids = eeg_selection.eeg_sub_id.unique()\n",
    "    for subid in subids:\n",
    "        # get the offset for this subid\n",
    "        eeg_offset = int(eeg_selection[eeg_selection.eeg_sub_id == subid].eeg_label_offset_seconds)\n",
    "\n",
    "        # get eeg slice and minmax normalize\n",
    "        eeg_temp = eeg[eeg_offset*200:(eeg_offset+50)*200]\n",
    "        eeg_temp = minmax_scale(eeg_temp, axis=0)\n",
    "\n",
    "        # count nans\n",
    "        num_nans.append(np.sum(np.isnan(eeg_temp)))\n",
    "\n",
    "        if np.sum(np.isnan(eeg_temp)) == 0:\n",
    "            # add to eeg_data\n",
    "            eeg_temp = sp.signal.decimate(eeg_temp, DOWN_RATE, axis=0, zero_phase=True)\n",
    "            eeg_data[counter,:,:] = eeg_temp\n",
    "            eeg_label = eeg_selection[eeg_selection.eeg_sub_id == subid][['seizure_vote', 'lpd_vote', 'gpd_vote', 'lrda_vote', 'grda_vote', 'other_vote']].to_numpy()\n",
    "            eeg_labels[counter] = normalize(eeg_label, norm='l1')\n",
    "            counter += 1\n",
    "        elif np.sum(np.isnan(eeg_temp)) <= 20:\n",
    "            # interpolate missing values\n",
    "            eeg_temp = pd.DataFrame(eeg_temp).interpolate().to_numpy()\n",
    "            eeg_temp = sp.signal.decimate(eeg_temp, DOWN_RATE, axis=0, zero_phase=True)\n",
    "            eeg_data[counter,:,:] = eeg_temp\n",
    "            eeg_label = eeg_selection[eeg_selection.eeg_sub_id == subid][['seizure_vote', 'lpd_vote', 'gpd_vote', 'lrda_vote', 'grda_vote', 'other_vote']].to_numpy()\n",
    "            eeg_labels[counter] = normalize(eeg_label, norm='l1')\n",
    "            counter += 1\n",
    "        else:\n",
    "            print(f'Found {np.sum(np.isnan(eeg_temp))} nans in {eeg_id} at offset {eeg_offset}')"
   ]
  },
  {
   "cell_type": "code",
   "execution_count": null,
   "metadata": {},
   "outputs": [
    {
     "name": "stdout",
     "output_type": "stream",
     "text": [
      "106800 106377\n"
     ]
    }
   ],
   "source": [
    "print(label_ids.shape[0], counter)"
   ]
  },
  {
   "cell_type": "code",
   "execution_count": null,
   "metadata": {},
   "outputs": [],
   "source": [
    "# delete all entries in 1st dimension with all zeros\n",
    "# eeg_data = eeg_data[~np.all(eeg_labels == 0, axis=1)]\n",
    "# eeg_labels = eeg_labels[~np.all(eeg_labels == 0, axis=1)]"
   ]
  },
  {
   "cell_type": "code",
   "execution_count": null,
   "metadata": {},
   "outputs": [],
   "source": [
    "del eeg\n",
    "gc.collect()\n",
    "\n",
    "# delete empty rows\n",
    "eeg_data = eeg_data[:counter,:,:]\n",
    "eeg_labels = eeg_labels[:counter,:]"
   ]
  },
  {
   "cell_type": "code",
   "execution_count": null,
   "metadata": {},
   "outputs": [],
   "source": [
    "np.save(f'scaled_eeg_data_{DOWN_RATE}dsr.npy', eeg_data)\n",
    "np.save(f'scaled_eeg_labels_{DOWN_RATE}dsr.npy', eeg_labels)"
   ]
  },
  {
   "cell_type": "code",
   "execution_count": null,
   "metadata": {},
   "outputs": [
    {
     "data": {
      "text/plain": [
       "0"
      ]
     },
     "execution_count": 9,
     "metadata": {},
     "output_type": "execute_result"
    }
   ],
   "source": [
    "del eeg_data, eeg_labels,\n",
    "gc.collect()"
   ]
  },
  {
   "cell_type": "code",
   "execution_count": null,
   "metadata": {},
   "outputs": [],
   "source": []
  }
 ],
 "metadata": {
  "kernelspec": {
   "display_name": "Python 3",
   "language": "python",
   "name": "python3"
  },
  "language_info": {
   "codemirror_mode": {
    "name": "ipython",
    "version": 3
   },
   "file_extension": ".py",
   "mimetype": "text/x-python",
   "name": "python",
   "nbconvert_exporter": "python",
   "pygments_lexer": "ipython3",
   "version": "3.11.6"
  }
 },
 "nbformat": 4,
 "nbformat_minor": 2
}
